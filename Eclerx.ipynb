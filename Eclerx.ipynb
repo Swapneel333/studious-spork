{
 "cells": [
  {
   "cell_type": "markdown",
   "metadata": {},
   "source": [
    "# Consumer Email Data Analysis"
   ]
  },
  {
   "cell_type": "code",
   "execution_count": 1,
   "metadata": {},
   "outputs": [],
   "source": [
    "import numpy as np\n",
    "import pandas as pd\n",
    "import seaborn as sns\n",
    "import matplotlib.pyplot as plt\n",
    "\n",
    "import warnings\n",
    "warnings.filterwarnings(\"ignore\")\n",
    "%matplotlib inline"
   ]
  },
  {
   "cell_type": "code",
   "execution_count": 2,
   "metadata": {},
   "outputs": [
    {
     "data": {
      "text/html": [
       "<div>\n",
       "<style scoped>\n",
       "    .dataframe tbody tr th:only-of-type {\n",
       "        vertical-align: middle;\n",
       "    }\n",
       "\n",
       "    .dataframe tbody tr th {\n",
       "        vertical-align: top;\n",
       "    }\n",
       "\n",
       "    .dataframe thead th {\n",
       "        text-align: right;\n",
       "    }\n",
       "</style>\n",
       "<table border=\"1\" class=\"dataframe\">\n",
       "  <thead>\n",
       "    <tr style=\"text-align: right;\">\n",
       "      <th></th>\n",
       "      <th>Midascontactid</th>\n",
       "      <th>Createdat</th>\n",
       "      <th>Emailpermissionstatus</th>\n",
       "      <th>Cont.Acq.Src</th>\n",
       "      <th>Email.Src.First</th>\n",
       "      <th>Segment</th>\n",
       "      <th>Segmentsecondary</th>\n",
       "      <th>Email.Acq.Dt</th>\n",
       "      <th>Email.Pref.Ch.Dt</th>\n",
       "      <th>Entry.Point.List</th>\n",
       "      <th>...</th>\n",
       "      <th>Eml.Click.First.Ts</th>\n",
       "      <th>Eml.Click.Last.Ts</th>\n",
       "      <th>Eml.Bounce.Last.Ts</th>\n",
       "      <th>Eml.Unsub.Last.Ts</th>\n",
       "      <th>Eml.Spam.Last.Ts</th>\n",
       "      <th>Email.Domain</th>\n",
       "      <th>Em.Pref.Status</th>\n",
       "      <th>Em.Pref.Dte</th>\n",
       "      <th>Invalid.Email.Dte</th>\n",
       "      <th>Em.Spamclplt.Dte</th>\n",
       "    </tr>\n",
       "  </thead>\n",
       "  <tbody>\n",
       "    <tr>\n",
       "      <th>0</th>\n",
       "      <td>1020375449</td>\n",
       "      <td>2019-04-23</td>\n",
       "      <td>I</td>\n",
       "      <td>LIDUAS16</td>\n",
       "      <td>OOBWIN15</td>\n",
       "      <td>CON</td>\n",
       "      <td>NaN</td>\n",
       "      <td>2019-04-22</td>\n",
       "      <td>2019-08-24</td>\n",
       "      <td>|LIDUAS1608|OOBAND1407|OOBWIN1506|</td>\n",
       "      <td>...</td>\n",
       "      <td>2019-08-21</td>\n",
       "      <td>2019-08-21</td>\n",
       "      <td>NaT</td>\n",
       "      <td>NaT</td>\n",
       "      <td>NaT</td>\n",
       "      <td>gmail.com</td>\n",
       "      <td>I</td>\n",
       "      <td>2019-08-24</td>\n",
       "      <td>NaT</td>\n",
       "      <td>NaN</td>\n",
       "    </tr>\n",
       "    <tr>\n",
       "      <th>1</th>\n",
       "      <td>1042778096</td>\n",
       "      <td>2019-10-16</td>\n",
       "      <td>U</td>\n",
       "      <td>OOBWIN15</td>\n",
       "      <td>NaN</td>\n",
       "      <td>CON</td>\n",
       "      <td>NaN</td>\n",
       "      <td>NaT</td>\n",
       "      <td>2019-10-15</td>\n",
       "      <td>|OOBWIN1506|</td>\n",
       "      <td>...</td>\n",
       "      <td>NaT</td>\n",
       "      <td>NaT</td>\n",
       "      <td>NaT</td>\n",
       "      <td>NaT</td>\n",
       "      <td>NaT</td>\n",
       "      <td>hotmail.com</td>\n",
       "      <td>U</td>\n",
       "      <td>2019-10-15</td>\n",
       "      <td>NaT</td>\n",
       "      <td>NaN</td>\n",
       "    </tr>\n",
       "    <tr>\n",
       "      <th>2</th>\n",
       "      <td>1039527195</td>\n",
       "      <td>2019-07-29</td>\n",
       "      <td>I</td>\n",
       "      <td>NETMINNG</td>\n",
       "      <td>NETMINNG</td>\n",
       "      <td>CON</td>\n",
       "      <td>NaN</td>\n",
       "      <td>2019-07-29</td>\n",
       "      <td>2019-07-30</td>\n",
       "      <td>|HYBRIS1506|IGNONE20121024|SAPCRMSHIP120501|</td>\n",
       "      <td>...</td>\n",
       "      <td>NaT</td>\n",
       "      <td>NaT</td>\n",
       "      <td>NaT</td>\n",
       "      <td>NaT</td>\n",
       "      <td>NaT</td>\n",
       "      <td>hotmail.com</td>\n",
       "      <td>I</td>\n",
       "      <td>2019-07-30</td>\n",
       "      <td>NaT</td>\n",
       "      <td>NaN</td>\n",
       "    </tr>\n",
       "    <tr>\n",
       "      <th>3</th>\n",
       "      <td>1008356168</td>\n",
       "      <td>2019-11-29</td>\n",
       "      <td>I</td>\n",
       "      <td>EPI2</td>\n",
       "      <td>EPI2</td>\n",
       "      <td>CON</td>\n",
       "      <td>NaN</td>\n",
       "      <td>2015-11-04</td>\n",
       "      <td>2019-11-29</td>\n",
       "      <td>|HYBRIS1506|LENI2|OOBWIN1407|OOBWIN1506|RI6 PE...</td>\n",
       "      <td>...</td>\n",
       "      <td>2016-07-28</td>\n",
       "      <td>2016-08-06</td>\n",
       "      <td>NaT</td>\n",
       "      <td>2016-11-03</td>\n",
       "      <td>NaT</td>\n",
       "      <td>gmail.com</td>\n",
       "      <td>I</td>\n",
       "      <td>2019-11-29</td>\n",
       "      <td>NaT</td>\n",
       "      <td>NaN</td>\n",
       "    </tr>\n",
       "    <tr>\n",
       "      <th>4</th>\n",
       "      <td>1038164470</td>\n",
       "      <td>2019-04-30</td>\n",
       "      <td>U</td>\n",
       "      <td>OOBWIN15</td>\n",
       "      <td>NaN</td>\n",
       "      <td>CON</td>\n",
       "      <td>NaN</td>\n",
       "      <td>NaT</td>\n",
       "      <td>2019-04-29</td>\n",
       "      <td>|OOBWIN1506|</td>\n",
       "      <td>...</td>\n",
       "      <td>2019-05-26</td>\n",
       "      <td>2019-05-26</td>\n",
       "      <td>NaT</td>\n",
       "      <td>NaT</td>\n",
       "      <td>NaT</td>\n",
       "      <td>hotmail.com</td>\n",
       "      <td>U</td>\n",
       "      <td>2019-04-29</td>\n",
       "      <td>NaT</td>\n",
       "      <td>NaN</td>\n",
       "    </tr>\n",
       "  </tbody>\n",
       "</table>\n",
       "<p>5 rows × 51 columns</p>\n",
       "</div>"
      ],
      "text/plain": [
       "   Midascontactid  Createdat Emailpermissionstatus Cont.Acq.Src  \\\n",
       "0      1020375449 2019-04-23                     I     LIDUAS16   \n",
       "1      1042778096 2019-10-16                     U     OOBWIN15   \n",
       "2      1039527195 2019-07-29                     I     NETMINNG   \n",
       "3      1008356168 2019-11-29                     I         EPI2   \n",
       "4      1038164470 2019-04-30                     U     OOBWIN15   \n",
       "\n",
       "  Email.Src.First Segment Segmentsecondary Email.Acq.Dt Email.Pref.Ch.Dt  \\\n",
       "0        OOBWIN15     CON              NaN   2019-04-22       2019-08-24   \n",
       "1             NaN     CON              NaN          NaT       2019-10-15   \n",
       "2        NETMINNG     CON              NaN   2019-07-29       2019-07-30   \n",
       "3            EPI2     CON              NaN   2015-11-04       2019-11-29   \n",
       "4             NaN     CON              NaN          NaT       2019-04-29   \n",
       "\n",
       "                                    Entry.Point.List  ... Eml.Click.First.Ts  \\\n",
       "0                 |LIDUAS1608|OOBAND1407|OOBWIN1506|  ...         2019-08-21   \n",
       "1                                       |OOBWIN1506|  ...                NaT   \n",
       "2       |HYBRIS1506|IGNONE20121024|SAPCRMSHIP120501|  ...                NaT   \n",
       "3  |HYBRIS1506|LENI2|OOBWIN1407|OOBWIN1506|RI6 PE...  ...         2016-07-28   \n",
       "4                                       |OOBWIN1506|  ...         2019-05-26   \n",
       "\n",
       "  Eml.Click.Last.Ts Eml.Bounce.Last.Ts Eml.Unsub.Last.Ts Eml.Spam.Last.Ts  \\\n",
       "0        2019-08-21                NaT               NaT              NaT   \n",
       "1               NaT                NaT               NaT              NaT   \n",
       "2               NaT                NaT               NaT              NaT   \n",
       "3        2016-08-06                NaT        2016-11-03              NaT   \n",
       "4        2019-05-26                NaT               NaT              NaT   \n",
       "\n",
       "  Email.Domain Em.Pref.Status Em.Pref.Dte Invalid.Email.Dte Em.Spamclplt.Dte  \n",
       "0    gmail.com              I  2019-08-24               NaT              NaN  \n",
       "1  hotmail.com              U  2019-10-15               NaT              NaN  \n",
       "2  hotmail.com              I  2019-07-30               NaT              NaN  \n",
       "3    gmail.com              I  2019-11-29               NaT              NaN  \n",
       "4  hotmail.com              U  2019-04-29               NaT              NaN  \n",
       "\n",
       "[5 rows x 51 columns]"
      ]
     },
     "execution_count": 2,
     "metadata": {},
     "output_type": "execute_result"
    }
   ],
   "source": [
    "df = pd.read_excel(r'C:\\Users\\MY PC\\Desktop\\email_data.xlsx')\n",
    "df.head()"
   ]
  },
  {
   "cell_type": "code",
   "execution_count": 3,
   "metadata": {},
   "outputs": [
    {
     "data": {
      "text/plain": [
       "(10000, 51)"
      ]
     },
     "execution_count": 3,
     "metadata": {},
     "output_type": "execute_result"
    }
   ],
   "source": [
    "df.shape"
   ]
  },
  {
   "cell_type": "code",
   "execution_count": 4,
   "metadata": {},
   "outputs": [
    {
     "name": "stdout",
     "output_type": "stream",
     "text": [
      "<class 'pandas.core.frame.DataFrame'>\n",
      "RangeIndex: 10000 entries, 0 to 9999\n",
      "Data columns (total 51 columns):\n",
      " #   Column                       Non-Null Count  Dtype         \n",
      "---  ------                       --------------  -----         \n",
      " 0   Midascontactid               10000 non-null  int64         \n",
      " 1   Createdat                    10000 non-null  datetime64[ns]\n",
      " 2   Emailpermissionstatus        10000 non-null  object        \n",
      " 3   Cont.Acq.Src                 9943 non-null   object        \n",
      " 4   Email.Src.First              6274 non-null   object        \n",
      " 5   Segment                      10000 non-null  object        \n",
      " 6   Segmentsecondary             87 non-null     object        \n",
      " 7   Email.Acq.Dt                 6274 non-null   datetime64[ns]\n",
      " 8   Email.Pref.Ch.Dt             9943 non-null   datetime64[ns]\n",
      " 9   Entry.Point.List             9943 non-null   object        \n",
      " 10  Cont.Acq.Src2                9943 non-null   object        \n",
      " 11  Cont.Acq.Dte                 9943 non-null   datetime64[ns]\n",
      " 12  Prod.Buy.Last                8480 non-null   datetime64[ns]\n",
      " 13  Prod.Buy.First               8480 non-null   datetime64[ns]\n",
      " 14  Prod.Buy.Accessories         38 non-null     datetime64[ns]\n",
      " 15  Prod.Buy.All.In.One.Desktop  260 non-null    datetime64[ns]\n",
      " 16  Prod.Buy.Desktop             410 non-null    datetime64[ns]\n",
      " 17  Prod.Buy.Idc                 523 non-null    datetime64[ns]\n",
      " 18  Prod.Buy.Idpd                4599 non-null   datetime64[ns]\n",
      " 19  Prod.Buy.Laptop              86 non-null     datetime64[ns]\n",
      " 20  Prod.Buy.Servers             1 non-null      datetime64[ns]\n",
      " 21  Prod.Buy.Software            0 non-null      float64       \n",
      " 22  Prod.Buy.Thnkc               86 non-null     datetime64[ns]\n",
      " 23  Prod.Buy.Thnkp               864 non-null    datetime64[ns]\n",
      " 24  Prod.Buy.Warranties          251 non-null    datetime64[ns]\n",
      " 25  Prod.Buy.Workstation         1 non-null      datetime64[ns]\n",
      " 26  Prod.Buy.Android.Tablet      2 non-null      datetime64[ns]\n",
      " 27  Prod.Buy.Windows.Tablet      2 non-null      datetime64[ns]\n",
      " 28  Prod.Buy.Convertible         6 non-null      datetime64[ns]\n",
      " 29  Prod.Buy.Android.Os          2 non-null      datetime64[ns]\n",
      " 30  Prod.Buy.Gaming              370 non-null    datetime64[ns]\n",
      " 31  Prod.Buy.Windows.Os          27 non-null     datetime64[ns]\n",
      " 32  Prod.Buy.Gaming.Related      203 non-null    datetime64[ns]\n",
      " 33  Country                      10000 non-null  object        \n",
      " 34  Eml.Sent.Num                 9859 non-null   float64       \n",
      " 35  Eml.Sent.First.Ts            7879 non-null   datetime64[ns]\n",
      " 36  Eml.Sent.Last.Ts             7879 non-null   datetime64[ns]\n",
      " 37  Eml.Open.Num                 9859 non-null   float64       \n",
      " 38  Eml.Open.First.Ts            3783 non-null   datetime64[ns]\n",
      " 39  Eml.Open.Last.Ts             3783 non-null   datetime64[ns]\n",
      " 40  Eml.Click.Num                9859 non-null   float64       \n",
      " 41  Eml.Click.First.Ts           1455 non-null   datetime64[ns]\n",
      " 42  Eml.Click.Last.Ts            1455 non-null   datetime64[ns]\n",
      " 43  Eml.Bounce.Last.Ts           12 non-null     datetime64[ns]\n",
      " 44  Eml.Unsub.Last.Ts            101 non-null    datetime64[ns]\n",
      " 45  Eml.Spam.Last.Ts             24 non-null     datetime64[ns]\n",
      " 46  Email.Domain                 10000 non-null  object        \n",
      " 47  Em.Pref.Status               10000 non-null  object        \n",
      " 48  Em.Pref.Dte                  10000 non-null  datetime64[ns]\n",
      " 49  Invalid.Email.Dte            53 non-null     datetime64[ns]\n",
      " 50  Em.Spamclplt.Dte             0 non-null      float64       \n",
      "dtypes: datetime64[ns](35), float64(5), int64(1), object(10)\n",
      "memory usage: 3.9+ MB\n"
     ]
    }
   ],
   "source": [
    "df.info()"
   ]
  },
  {
   "cell_type": "markdown",
   "metadata": {},
   "source": [
    "## MISSING VALUE CHECK"
   ]
  },
  {
   "cell_type": "code",
   "execution_count": 5,
   "metadata": {},
   "outputs": [
    {
     "data": {
      "text/plain": [
       "Midascontactid                     0\n",
       "Createdat                          0\n",
       "Emailpermissionstatus              0\n",
       "Cont.Acq.Src                      57\n",
       "Email.Src.First                 3726\n",
       "Segment                            0\n",
       "Segmentsecondary                9913\n",
       "Email.Acq.Dt                    3726\n",
       "Email.Pref.Ch.Dt                  57\n",
       "Entry.Point.List                  57\n",
       "Cont.Acq.Src2                     57\n",
       "Cont.Acq.Dte                      57\n",
       "Prod.Buy.Last                   1520\n",
       "Prod.Buy.First                  1520\n",
       "Prod.Buy.Accessories            9962\n",
       "Prod.Buy.All.In.One.Desktop     9740\n",
       "Prod.Buy.Desktop                9590\n",
       "Prod.Buy.Idc                    9477\n",
       "Prod.Buy.Idpd                   5401\n",
       "Prod.Buy.Laptop                 9914\n",
       "Prod.Buy.Servers                9999\n",
       "Prod.Buy.Software              10000\n",
       "Prod.Buy.Thnkc                  9914\n",
       "Prod.Buy.Thnkp                  9136\n",
       "Prod.Buy.Warranties             9749\n",
       "Prod.Buy.Workstation            9999\n",
       "Prod.Buy.Android.Tablet         9998\n",
       "Prod.Buy.Windows.Tablet         9998\n",
       "Prod.Buy.Convertible            9994\n",
       "Prod.Buy.Android.Os             9998\n",
       "Prod.Buy.Gaming                 9630\n",
       "Prod.Buy.Windows.Os             9973\n",
       "Prod.Buy.Gaming.Related         9797\n",
       "Country                            0\n",
       "Eml.Sent.Num                     141\n",
       "Eml.Sent.First.Ts               2121\n",
       "Eml.Sent.Last.Ts                2121\n",
       "Eml.Open.Num                     141\n",
       "Eml.Open.First.Ts               6217\n",
       "Eml.Open.Last.Ts                6217\n",
       "Eml.Click.Num                    141\n",
       "Eml.Click.First.Ts              8545\n",
       "Eml.Click.Last.Ts               8545\n",
       "Eml.Bounce.Last.Ts              9988\n",
       "Eml.Unsub.Last.Ts               9899\n",
       "Eml.Spam.Last.Ts                9976\n",
       "Email.Domain                       0\n",
       "Em.Pref.Status                     0\n",
       "Em.Pref.Dte                        0\n",
       "Invalid.Email.Dte               9947\n",
       "Em.Spamclplt.Dte               10000\n",
       "dtype: int64"
      ]
     },
     "execution_count": 5,
     "metadata": {},
     "output_type": "execute_result"
    }
   ],
   "source": [
    "df.isnull().sum()"
   ]
  },
  {
   "cell_type": "markdown",
   "metadata": {},
   "source": [
    "#### As we can see a number of columns have missing values which are more than 50% of the total number of instances. Thus those columns doesn't provide us enough relevance for the analysis and also there are additional columns which are not required for the analysis. Hence we would drop them. "
   ]
  },
  {
   "cell_type": "code",
   "execution_count": 6,
   "metadata": {},
   "outputs": [
    {
     "data": {
      "text/plain": [
       "Index(['Midascontactid', 'Createdat', 'Emailpermissionstatus', 'Cont.Acq.Src',\n",
       "       'Email.Src.First', 'Segment', 'Segmentsecondary', 'Email.Acq.Dt',\n",
       "       'Email.Pref.Ch.Dt', 'Entry.Point.List', 'Cont.Acq.Src2', 'Cont.Acq.Dte',\n",
       "       'Prod.Buy.Last', 'Prod.Buy.First', 'Prod.Buy.Accessories',\n",
       "       'Prod.Buy.All.In.One.Desktop', 'Prod.Buy.Desktop', 'Prod.Buy.Idc',\n",
       "       'Prod.Buy.Idpd', 'Prod.Buy.Laptop', 'Prod.Buy.Servers',\n",
       "       'Prod.Buy.Software', 'Prod.Buy.Thnkc', 'Prod.Buy.Thnkp',\n",
       "       'Prod.Buy.Warranties', 'Prod.Buy.Workstation',\n",
       "       'Prod.Buy.Android.Tablet', 'Prod.Buy.Windows.Tablet',\n",
       "       'Prod.Buy.Convertible', 'Prod.Buy.Android.Os', 'Prod.Buy.Gaming',\n",
       "       'Prod.Buy.Windows.Os', 'Prod.Buy.Gaming.Related', 'Country',\n",
       "       'Eml.Sent.Num', 'Eml.Sent.First.Ts', 'Eml.Sent.Last.Ts', 'Eml.Open.Num',\n",
       "       'Eml.Open.First.Ts', 'Eml.Open.Last.Ts', 'Eml.Click.Num',\n",
       "       'Eml.Click.First.Ts', 'Eml.Click.Last.Ts', 'Eml.Bounce.Last.Ts',\n",
       "       'Eml.Unsub.Last.Ts', 'Eml.Spam.Last.Ts', 'Email.Domain',\n",
       "       'Em.Pref.Status', 'Em.Pref.Dte', 'Invalid.Email.Dte',\n",
       "       'Em.Spamclplt.Dte'],\n",
       "      dtype='object')"
      ]
     },
     "execution_count": 6,
     "metadata": {},
     "output_type": "execute_result"
    }
   ],
   "source": [
    "df.columns"
   ]
  },
  {
   "cell_type": "code",
   "execution_count": 7,
   "metadata": {},
   "outputs": [],
   "source": [
    "df_new = df.drop(['Createdat','Segmentsecondary','Prod.Buy.Accessories',\n",
    "       'Prod.Buy.All.In.One.Desktop', 'Prod.Buy.Desktop', 'Prod.Buy.Idc',\n",
    "       'Prod.Buy.Idpd', 'Prod.Buy.Laptop', 'Prod.Buy.Servers',\n",
    "       'Prod.Buy.Software', 'Prod.Buy.Thnkc', 'Prod.Buy.Thnkp',\n",
    "       'Prod.Buy.Warranties', 'Prod.Buy.Workstation',\n",
    "       'Prod.Buy.Android.Tablet', 'Prod.Buy.Windows.Tablet',\n",
    "       'Prod.Buy.Convertible', 'Prod.Buy.Android.Os', 'Prod.Buy.Gaming',\n",
    "       'Prod.Buy.Windows.Os', 'Prod.Buy.Gaming.Related','Eml.Open.First.Ts','Email.Pref.Ch.Dt','Eml.Open.Last.Ts',\n",
    "       'Eml.Click.First.Ts', 'Eml.Click.Last.Ts', 'Eml.Bounce.Last.Ts','Eml.Unsub.Last.Ts','Eml.Spam.Last.Ts','Invalid.Email.Dte',\n",
    "       'Em.Spamclplt.Dte','Em.Pref.Status', 'Em.Pref.Dte','Entry.Point.List', 'Cont.Acq.Src2','Eml.Click.Num','Em.Pref.Status', 'Em.Pref.Dte'],axis = 1)"
   ]
  },
  {
   "cell_type": "code",
   "execution_count": 8,
   "metadata": {},
   "outputs": [
    {
     "data": {
      "text/html": [
       "<div>\n",
       "<style scoped>\n",
       "    .dataframe tbody tr th:only-of-type {\n",
       "        vertical-align: middle;\n",
       "    }\n",
       "\n",
       "    .dataframe tbody tr th {\n",
       "        vertical-align: top;\n",
       "    }\n",
       "\n",
       "    .dataframe thead th {\n",
       "        text-align: right;\n",
       "    }\n",
       "</style>\n",
       "<table border=\"1\" class=\"dataframe\">\n",
       "  <thead>\n",
       "    <tr style=\"text-align: right;\">\n",
       "      <th></th>\n",
       "      <th>Midascontactid</th>\n",
       "      <th>Emailpermissionstatus</th>\n",
       "      <th>Cont.Acq.Src</th>\n",
       "      <th>Email.Src.First</th>\n",
       "      <th>Segment</th>\n",
       "      <th>Email.Acq.Dt</th>\n",
       "      <th>Cont.Acq.Dte</th>\n",
       "      <th>Prod.Buy.Last</th>\n",
       "      <th>Prod.Buy.First</th>\n",
       "      <th>Country</th>\n",
       "      <th>Eml.Sent.Num</th>\n",
       "      <th>Eml.Sent.First.Ts</th>\n",
       "      <th>Eml.Sent.Last.Ts</th>\n",
       "      <th>Eml.Open.Num</th>\n",
       "      <th>Email.Domain</th>\n",
       "    </tr>\n",
       "  </thead>\n",
       "  <tbody>\n",
       "    <tr>\n",
       "      <th>0</th>\n",
       "      <td>1020375449</td>\n",
       "      <td>I</td>\n",
       "      <td>LIDUAS16</td>\n",
       "      <td>OOBWIN15</td>\n",
       "      <td>CON</td>\n",
       "      <td>2019-04-22</td>\n",
       "      <td>2017-03-03</td>\n",
       "      <td>2019-08-24</td>\n",
       "      <td>2019-04-22</td>\n",
       "      <td>US</td>\n",
       "      <td>228.0</td>\n",
       "      <td>2017-03-03</td>\n",
       "      <td>2020-02-20</td>\n",
       "      <td>41.0</td>\n",
       "      <td>gmail.com</td>\n",
       "    </tr>\n",
       "    <tr>\n",
       "      <th>1</th>\n",
       "      <td>1042778096</td>\n",
       "      <td>U</td>\n",
       "      <td>OOBWIN15</td>\n",
       "      <td>NaN</td>\n",
       "      <td>CON</td>\n",
       "      <td>NaT</td>\n",
       "      <td>2019-10-15</td>\n",
       "      <td>2019-10-15</td>\n",
       "      <td>2019-10-15</td>\n",
       "      <td>US</td>\n",
       "      <td>2.0</td>\n",
       "      <td>2019-11-25</td>\n",
       "      <td>2019-12-24</td>\n",
       "      <td>0.0</td>\n",
       "      <td>hotmail.com</td>\n",
       "    </tr>\n",
       "    <tr>\n",
       "      <th>2</th>\n",
       "      <td>1039527195</td>\n",
       "      <td>I</td>\n",
       "      <td>NETMINNG</td>\n",
       "      <td>NETMINNG</td>\n",
       "      <td>CON</td>\n",
       "      <td>2019-07-29</td>\n",
       "      <td>2019-07-29</td>\n",
       "      <td>2019-07-30</td>\n",
       "      <td>2019-07-30</td>\n",
       "      <td>US</td>\n",
       "      <td>121.0</td>\n",
       "      <td>2019-07-29</td>\n",
       "      <td>2020-02-20</td>\n",
       "      <td>4.0</td>\n",
       "      <td>hotmail.com</td>\n",
       "    </tr>\n",
       "    <tr>\n",
       "      <th>3</th>\n",
       "      <td>1008356168</td>\n",
       "      <td>I</td>\n",
       "      <td>EPI2</td>\n",
       "      <td>EPI2</td>\n",
       "      <td>CON</td>\n",
       "      <td>2015-11-04</td>\n",
       "      <td>2015-11-04</td>\n",
       "      <td>2019-11-29</td>\n",
       "      <td>2016-07-26</td>\n",
       "      <td>US</td>\n",
       "      <td>15.0</td>\n",
       "      <td>2019-11-29</td>\n",
       "      <td>2020-01-13</td>\n",
       "      <td>2.0</td>\n",
       "      <td>gmail.com</td>\n",
       "    </tr>\n",
       "    <tr>\n",
       "      <th>4</th>\n",
       "      <td>1038164470</td>\n",
       "      <td>U</td>\n",
       "      <td>OOBWIN15</td>\n",
       "      <td>NaN</td>\n",
       "      <td>CON</td>\n",
       "      <td>NaT</td>\n",
       "      <td>2019-04-29</td>\n",
       "      <td>2019-04-29</td>\n",
       "      <td>2019-04-29</td>\n",
       "      <td>US</td>\n",
       "      <td>20.0</td>\n",
       "      <td>2019-04-30</td>\n",
       "      <td>2019-05-24</td>\n",
       "      <td>1.0</td>\n",
       "      <td>hotmail.com</td>\n",
       "    </tr>\n",
       "  </tbody>\n",
       "</table>\n",
       "</div>"
      ],
      "text/plain": [
       "   Midascontactid Emailpermissionstatus Cont.Acq.Src Email.Src.First Segment  \\\n",
       "0      1020375449                     I     LIDUAS16        OOBWIN15     CON   \n",
       "1      1042778096                     U     OOBWIN15             NaN     CON   \n",
       "2      1039527195                     I     NETMINNG        NETMINNG     CON   \n",
       "3      1008356168                     I         EPI2            EPI2     CON   \n",
       "4      1038164470                     U     OOBWIN15             NaN     CON   \n",
       "\n",
       "  Email.Acq.Dt Cont.Acq.Dte Prod.Buy.Last Prod.Buy.First Country  \\\n",
       "0   2019-04-22   2017-03-03    2019-08-24     2019-04-22      US   \n",
       "1          NaT   2019-10-15    2019-10-15     2019-10-15      US   \n",
       "2   2019-07-29   2019-07-29    2019-07-30     2019-07-30      US   \n",
       "3   2015-11-04   2015-11-04    2019-11-29     2016-07-26      US   \n",
       "4          NaT   2019-04-29    2019-04-29     2019-04-29      US   \n",
       "\n",
       "   Eml.Sent.Num Eml.Sent.First.Ts Eml.Sent.Last.Ts  Eml.Open.Num Email.Domain  \n",
       "0         228.0        2017-03-03       2020-02-20          41.0    gmail.com  \n",
       "1           2.0        2019-11-25       2019-12-24           0.0  hotmail.com  \n",
       "2         121.0        2019-07-29       2020-02-20           4.0  hotmail.com  \n",
       "3          15.0        2019-11-29       2020-01-13           2.0    gmail.com  \n",
       "4          20.0        2019-04-30       2019-05-24           1.0  hotmail.com  "
      ]
     },
     "execution_count": 8,
     "metadata": {},
     "output_type": "execute_result"
    }
   ],
   "source": [
    "df_new.head()"
   ]
  },
  {
   "cell_type": "code",
   "execution_count": 9,
   "metadata": {},
   "outputs": [
    {
     "data": {
      "text/plain": [
       "(10000, 15)"
      ]
     },
     "execution_count": 9,
     "metadata": {},
     "output_type": "execute_result"
    }
   ],
   "source": [
    "df_new.shape"
   ]
  },
  {
   "cell_type": "code",
   "execution_count": 10,
   "metadata": {
    "scrolled": true
   },
   "outputs": [
    {
     "data": {
      "text/plain": [
       "Midascontactid              0\n",
       "Emailpermissionstatus       0\n",
       "Cont.Acq.Src               57\n",
       "Email.Src.First          3726\n",
       "Segment                     0\n",
       "Email.Acq.Dt             3726\n",
       "Cont.Acq.Dte               57\n",
       "Prod.Buy.Last            1520\n",
       "Prod.Buy.First           1520\n",
       "Country                     0\n",
       "Eml.Sent.Num              141\n",
       "Eml.Sent.First.Ts        2121\n",
       "Eml.Sent.Last.Ts         2121\n",
       "Eml.Open.Num              141\n",
       "Email.Domain                0\n",
       "dtype: int64"
      ]
     },
     "execution_count": 10,
     "metadata": {},
     "output_type": "execute_result"
    }
   ],
   "source": [
    "df_new.isnull().sum()"
   ]
  },
  {
   "cell_type": "markdown",
   "metadata": {},
   "source": [
    "## MISSING VALUE TREATMENT"
   ]
  },
  {
   "cell_type": "code",
   "execution_count": 11,
   "metadata": {},
   "outputs": [],
   "source": [
    "df_new1 = df_new.dropna(how=\"any\",axis=0)"
   ]
  },
  {
   "cell_type": "code",
   "execution_count": 12,
   "metadata": {},
   "outputs": [
    {
     "data": {
      "text/plain": [
       "(4607, 15)"
      ]
     },
     "execution_count": 12,
     "metadata": {},
     "output_type": "execute_result"
    }
   ],
   "source": [
    "df_new1.shape"
   ]
  },
  {
   "cell_type": "code",
   "execution_count": 13,
   "metadata": {},
   "outputs": [
    {
     "data": {
      "text/plain": [
       "Midascontactid           0\n",
       "Emailpermissionstatus    0\n",
       "Cont.Acq.Src             0\n",
       "Email.Src.First          0\n",
       "Segment                  0\n",
       "Email.Acq.Dt             0\n",
       "Cont.Acq.Dte             0\n",
       "Prod.Buy.Last            0\n",
       "Prod.Buy.First           0\n",
       "Country                  0\n",
       "Eml.Sent.Num             0\n",
       "Eml.Sent.First.Ts        0\n",
       "Eml.Sent.Last.Ts         0\n",
       "Eml.Open.Num             0\n",
       "Email.Domain             0\n",
       "dtype: int64"
      ]
     },
     "execution_count": 13,
     "metadata": {},
     "output_type": "execute_result"
    }
   ],
   "source": [
    "df_new1.isnull().sum()"
   ]
  },
  {
   "cell_type": "markdown",
   "metadata": {},
   "source": [
    "# Exploratory Data Analysis"
   ]
  },
  {
   "cell_type": "code",
   "execution_count": 14,
   "metadata": {},
   "outputs": [
    {
     "data": {
      "image/png": "[encoded data removed]",
      "text/plain": [
       "<Figure size 864x504 with 1 Axes>"
      ]
     },
     "metadata": {
      "needs_background": "light"
     },
     "output_type": "display_data"
    }
   ],
   "source": [
    "df_new1[\"Cont.Acq.Src\"].value_counts()[:5].plot(kind='bar' , figsize=(12, 7) , color = 'orange')\n",
    "plt.xlabel(\"Customer acquired source\")\n",
    "plt.ylabel(\"Number of customers\")\n",
    "plt.title(\"Top 5 Customer Acquired Source\")\n",
    "plt.show()"
   ]
  },
  {
   "cell_type": "code",
   "execution_count": 15,
   "metadata": {},
   "outputs": [
    {
     "data": {
      "image/png": "[encoded data removed]",
      "text/plain": [
       "<Figure size 864x504 with 1 Axes>"
      ]
     },
     "metadata": {
      "needs_background": "light"
     },
     "output_type": "display_data"
    }
   ],
   "source": [
    "df_new1[\"Email.Src.First\"].value_counts()[:5].plot(kind='bar' ,figsize=(12, 7) , color = 'brown')\n",
    "plt.xlabel(\"Customer acquired source\")\n",
    "plt.ylabel(\"Number of customers\")\n",
    "plt.title(\"Top 5 Customer Acquired Source\")\n",
    "plt.show()"
   ]
  },
  {
   "cell_type": "code",
   "execution_count": 16,
   "metadata": {},
   "outputs": [
    {
     "data": {
      "image/png": "[encoded data removed]",
      "text/plain": [
       "<Figure size 720x504 with 1 Axes>"
      ]
     },
     "metadata": {
      "needs_background": "light"
     },
     "output_type": "display_data"
    }
   ],
   "source": [
    "df_new1[\"Emailpermissionstatus\"].value_counts().plot(kind=\"barh\",figsize=(10,7))\n",
    "plt.xlabel(\"No. of Customers\")\n",
    "plt.ylabel(\"Email permission status\")\n",
    "plt.title(\"NO.of Customes Vs. Email permission Status\")\n",
    "plt.show()"
   ]
  },
  {
   "cell_type": "code",
   "execution_count": 17,
   "metadata": {},
   "outputs": [
    {
     "data": {
      "text/plain": [
       "US    4493\n",
       "CA     113\n",
       "us       1\n",
       "Name: Country, dtype: int64"
      ]
     },
     "execution_count": 17,
     "metadata": {},
     "output_type": "execute_result"
    }
   ],
   "source": [
    "df_new1[\"Country\"].value_counts()"
   ]
  },
  {
   "cell_type": "code",
   "execution_count": 18,
   "metadata": {},
   "outputs": [],
   "source": [
    "df_new1[\"Country\"] = df_new1[\"Country\"].replace(\"us\" , \"US\")"
   ]
  },
  {
   "cell_type": "code",
   "execution_count": 19,
   "metadata": {},
   "outputs": [],
   "source": [
    "percentage_us = (df_new1[\"Country\"].value_counts()[0]/df_new1[\"Country\"].count())*100\n",
    "percentage_ca = (df_new1[\"Country\"].value_counts()[1]/df_new1[\"Country\"].count())*100\n",
    "data = [percentage_us,percentage_ca]\n",
    "label = [\"US\" , \"CA\"]"
   ]
  },
  {
   "cell_type": "code",
   "execution_count": 20,
   "metadata": {},
   "outputs": [
    {
     "data": {
      "image/png": "[encoded data removed]",
      "text/plain": [
       "<Figure size 576x720 with 1 Axes>"
      ]
     },
     "metadata": {},
     "output_type": "display_data"
    }
   ],
   "source": [
    "fig = plt.figure(figsize =(8, 10))\n",
    "wp = { 'linewidth' : 1, 'edgecolor' : \"black\" }\n",
    "plt.pie(data, labels = label,wedgeprops = wp,autopct='%1.2f',startangle=90)\n",
    "plt.title(\"Customer Distribution based on Country\")\n",
    "plt.show()"
   ]
  },
  {
   "cell_type": "code",
   "execution_count": 21,
   "metadata": {},
   "outputs": [
    {
     "data": {
      "image/png": "[encoded data removed]",
      "text/plain": [
       "<Figure size 720x504 with 1 Axes>"
      ]
     },
     "metadata": {
      "needs_background": "light"
     },
     "output_type": "display_data"
    }
   ],
   "source": [
    "df_new1['Segment'].value_counts().plot(kind = \"bar\" , figsize = (10,7) , color = 'blue')\n",
    "plt.xlabel(\"Customer Segment\")\n",
    "plt.ylabel(\"Number of customers\")\n",
    "plt.title(\"Potential Customer Segments\")\n",
    "plt.show()"
   ]
  },
  {
   "cell_type": "code",
   "execution_count": 22,
   "metadata": {},
   "outputs": [
    {
     "data": {
      "text/plain": [
       "gmail.com      2375\n",
       "yahoo.com       495\n",
       "outlook.com     438\n",
       "hotmail.com     415\n",
       "aol.com         124\n",
       "Name: Email.Domain, dtype: int64"
      ]
     },
     "execution_count": 22,
     "metadata": {},
     "output_type": "execute_result"
    }
   ],
   "source": [
    "df_new1[\"Email.Domain\"].value_counts()[:5]"
   ]
  },
  {
   "cell_type": "code",
   "execution_count": 23,
   "metadata": {},
   "outputs": [],
   "source": [
    "percentage_gmail = (df_new1[\"Email.Domain\"].value_counts()[0]/df_new1[\"Email.Domain\"].count())*100\n",
    "percentage_yahoo = (df_new1[\"Email.Domain\"].value_counts()[1]/df_new1[\"Email.Domain\"].count())*100\n",
    "percentage_outlook = (df_new1[\"Email.Domain\"].value_counts()[2]/df_new1[\"Email.Domain\"].count())*100\n",
    "percentage_hotmail = (df_new1[\"Email.Domain\"].value_counts()[3]/df_new1[\"Email.Domain\"].count())*100\n",
    "percentage_aol = (df_new1[\"Email.Domain\"].value_counts()[4]/df_new1[\"Email.Domain\"].count())*100\n",
    "data = [percentage_gmail,percentage_yahoo,percentage_outlook,percentage_hotmail,percentage_aol]\n",
    "label = [\"Gmail\" , \"Yahoo\", \"Outlook\" , \"Hotmail\" , \"Aol\"]"
   ]
  },
  {
   "cell_type": "code",
   "execution_count": 24,
   "metadata": {},
   "outputs": [
    {
     "data": {
      "image/png": "[encoded data removed]",
      "text/plain": [
       "<Figure size 720x504 with 1 Axes>"
      ]
     },
     "metadata": {},
     "output_type": "display_data"
    }
   ],
   "source": [
    "fig = plt.figure(figsize =(10, 7))\n",
    "wp = { 'linewidth' : 1, 'edgecolor' : \"black\" }\n",
    "plt.pie(data, labels = label,wedgeprops = wp,autopct='%1.2f',startangle=90)\n",
    "plt.title(\"Customer Distribution based on Email domain\")\n",
    "plt.show()"
   ]
  },
  {
   "cell_type": "code",
   "execution_count": 25,
   "metadata": {},
   "outputs": [],
   "source": [
    "df_new1[\"email_view_rate\"] = (df_new1[\"Eml.Open.Num\"]/df_new1[\"Eml.Sent.Num\"]) * 100"
   ]
  },
  {
   "cell_type": "code",
   "execution_count": 26,
   "metadata": {},
   "outputs": [
    {
     "data": {
      "text/html": [
       "<div>\n",
       "<style scoped>\n",
       "    .dataframe tbody tr th:only-of-type {\n",
       "        vertical-align: middle;\n",
       "    }\n",
       "\n",
       "    .dataframe tbody tr th {\n",
       "        vertical-align: top;\n",
       "    }\n",
       "\n",
       "    .dataframe thead th {\n",
       "        text-align: right;\n",
       "    }\n",
       "</style>\n",
       "<table border=\"1\" class=\"dataframe\">\n",
       "  <thead>\n",
       "    <tr style=\"text-align: right;\">\n",
       "      <th></th>\n",
       "      <th>Country</th>\n",
       "      <th>Segment</th>\n",
       "      <th>email_view_rate</th>\n",
       "    </tr>\n",
       "  </thead>\n",
       "  <tbody>\n",
       "    <tr>\n",
       "      <th>0</th>\n",
       "      <td>CA</td>\n",
       "      <td>AFF</td>\n",
       "      <td>38.845342</td>\n",
       "    </tr>\n",
       "    <tr>\n",
       "      <th>1</th>\n",
       "      <td>CA</td>\n",
       "      <td>CON</td>\n",
       "      <td>31.711024</td>\n",
       "    </tr>\n",
       "    <tr>\n",
       "      <th>2</th>\n",
       "      <td>CA</td>\n",
       "      <td>EPP</td>\n",
       "      <td>66.666667</td>\n",
       "    </tr>\n",
       "    <tr>\n",
       "      <th>3</th>\n",
       "      <td>CA</td>\n",
       "      <td>VSB</td>\n",
       "      <td>39.015793</td>\n",
       "    </tr>\n",
       "    <tr>\n",
       "      <th>4</th>\n",
       "      <td>US</td>\n",
       "      <td>AFF</td>\n",
       "      <td>50.344836</td>\n",
       "    </tr>\n",
       "    <tr>\n",
       "      <th>5</th>\n",
       "      <td>US</td>\n",
       "      <td>CON</td>\n",
       "      <td>18.545449</td>\n",
       "    </tr>\n",
       "    <tr>\n",
       "      <th>6</th>\n",
       "      <td>US</td>\n",
       "      <td>CPT</td>\n",
       "      <td>84.929945</td>\n",
       "    </tr>\n",
       "    <tr>\n",
       "      <th>7</th>\n",
       "      <td>US</td>\n",
       "      <td>EPP</td>\n",
       "      <td>293.333333</td>\n",
       "    </tr>\n",
       "    <tr>\n",
       "      <th>8</th>\n",
       "      <td>US</td>\n",
       "      <td>SMB</td>\n",
       "      <td>28.564566</td>\n",
       "    </tr>\n",
       "    <tr>\n",
       "      <th>9</th>\n",
       "      <td>US</td>\n",
       "      <td>VSB</td>\n",
       "      <td>58.366993</td>\n",
       "    </tr>\n",
       "  </tbody>\n",
       "</table>\n",
       "</div>"
      ],
      "text/plain": [
       "  Country Segment  email_view_rate\n",
       "0      CA     AFF        38.845342\n",
       "1      CA     CON        31.711024\n",
       "2      CA     EPP        66.666667\n",
       "3      CA     VSB        39.015793\n",
       "4      US     AFF        50.344836\n",
       "5      US     CON        18.545449\n",
       "6      US     CPT        84.929945\n",
       "7      US     EPP       293.333333\n",
       "8      US     SMB        28.564566\n",
       "9      US     VSB        58.366993"
      ]
     },
     "execution_count": 26,
     "metadata": {},
     "output_type": "execute_result"
    }
   ],
   "source": [
    "response_rate_data = df_new1.groupby([\"Country\" , \"Segment\"]).email_view_rate.mean().reset_index()\n",
    "response_rate_data"
   ]
  },
  {
   "cell_type": "code",
   "execution_count": 27,
   "metadata": {},
   "outputs": [
    {
     "data": {
      "image/png": "[encoded data removed]",
      "text/plain": [
       "<Figure size 720x504 with 1 Axes>"
      ]
     },
     "metadata": {
      "needs_background": "light"
     },
     "output_type": "display_data"
    }
   ],
   "source": [
    "plt.figure(figsize=(10,7))\n",
    "sns.barplot(x = 'Segment' , y = 'email_view_rate' , data= response_rate_data , hue = 'Country')\n",
    "plt.legend(loc =1)\n",
    "plt.xlabel(\"Customer Segement\")\n",
    "plt.ylabel(\"Email view rate\")\n",
    "plt.title(\"Customer Response Rate in different Segments\")\n",
    "plt.show()"
   ]
  },
  {
   "cell_type": "markdown",
   "metadata": {},
   "source": [
    "## Analyzed Results(Insights)\n",
    "\n",
    "1) The top customer acquired source independent of email permission status is OOBWIN15.\n",
    "\n",
    "2) The top customer acquired source after receiving email permission from customer is  also OOBWIN15.\n",
    "\n",
    "3) Other top sources are HYBRIS15, NETMINNG and ADBEMA19 in both the above mentioned cases.\n",
    "\n",
    "4) The customers are high in numbers when email permission status is “Opted-in” but considerably low for “”Opted-out”.\n",
    "\n",
    "5) US-based customers are high in numbers.\n",
    "\n",
    "6) Customers using G-mail are high in numbers followed by Yahoo and Outlook.\n",
    "\n",
    "7) Customer’s response rate to open the emails sent to them is high for EPP segment in both the countries followed by CPT segment is US and VSB segment in CA."
   ]
  },
  {
   "cell_type": "markdown",
   "metadata": {},
   "source": [
    "## Data Pre-processing"
   ]
  },
  {
   "cell_type": "code",
   "execution_count": 28,
   "metadata": {},
   "outputs": [
    {
     "data": {
      "text/html": [
       "<div>\n",
       "<style scoped>\n",
       "    .dataframe tbody tr th:only-of-type {\n",
       "        vertical-align: middle;\n",
       "    }\n",
       "\n",
       "    .dataframe tbody tr th {\n",
       "        vertical-align: top;\n",
       "    }\n",
       "\n",
       "    .dataframe thead th {\n",
       "        text-align: right;\n",
       "    }\n",
       "</style>\n",
       "<table border=\"1\" class=\"dataframe\">\n",
       "  <thead>\n",
       "    <tr style=\"text-align: right;\">\n",
       "      <th></th>\n",
       "      <th>Midascontactid</th>\n",
       "      <th>Emailpermissionstatus</th>\n",
       "      <th>Cont.Acq.Src</th>\n",
       "      <th>Email.Src.First</th>\n",
       "      <th>Segment</th>\n",
       "      <th>Email.Acq.Dt</th>\n",
       "      <th>Cont.Acq.Dte</th>\n",
       "      <th>Prod.Buy.Last</th>\n",
       "      <th>Prod.Buy.First</th>\n",
       "      <th>Country</th>\n",
       "      <th>Eml.Sent.Num</th>\n",
       "      <th>Eml.Sent.First.Ts</th>\n",
       "      <th>Eml.Sent.Last.Ts</th>\n",
       "      <th>Eml.Open.Num</th>\n",
       "      <th>Email.Domain</th>\n",
       "      <th>email_view_rate</th>\n",
       "    </tr>\n",
       "  </thead>\n",
       "  <tbody>\n",
       "    <tr>\n",
       "      <th>0</th>\n",
       "      <td>1020375449</td>\n",
       "      <td>I</td>\n",
       "      <td>LIDUAS16</td>\n",
       "      <td>OOBWIN15</td>\n",
       "      <td>CON</td>\n",
       "      <td>2019-04-22</td>\n",
       "      <td>2017-03-03</td>\n",
       "      <td>2019-08-24</td>\n",
       "      <td>2019-04-22</td>\n",
       "      <td>US</td>\n",
       "      <td>228.0</td>\n",
       "      <td>2017-03-03</td>\n",
       "      <td>2020-02-20</td>\n",
       "      <td>41.0</td>\n",
       "      <td>gmail.com</td>\n",
       "      <td>17.982456</td>\n",
       "    </tr>\n",
       "    <tr>\n",
       "      <th>2</th>\n",
       "      <td>1039527195</td>\n",
       "      <td>I</td>\n",
       "      <td>NETMINNG</td>\n",
       "      <td>NETMINNG</td>\n",
       "      <td>CON</td>\n",
       "      <td>2019-07-29</td>\n",
       "      <td>2019-07-29</td>\n",
       "      <td>2019-07-30</td>\n",
       "      <td>2019-07-30</td>\n",
       "      <td>US</td>\n",
       "      <td>121.0</td>\n",
       "      <td>2019-07-29</td>\n",
       "      <td>2020-02-20</td>\n",
       "      <td>4.0</td>\n",
       "      <td>hotmail.com</td>\n",
       "      <td>3.305785</td>\n",
       "    </tr>\n",
       "    <tr>\n",
       "      <th>3</th>\n",
       "      <td>1008356168</td>\n",
       "      <td>I</td>\n",
       "      <td>EPI2</td>\n",
       "      <td>EPI2</td>\n",
       "      <td>CON</td>\n",
       "      <td>2015-11-04</td>\n",
       "      <td>2015-11-04</td>\n",
       "      <td>2019-11-29</td>\n",
       "      <td>2016-07-26</td>\n",
       "      <td>US</td>\n",
       "      <td>15.0</td>\n",
       "      <td>2019-11-29</td>\n",
       "      <td>2020-01-13</td>\n",
       "      <td>2.0</td>\n",
       "      <td>gmail.com</td>\n",
       "      <td>13.333333</td>\n",
       "    </tr>\n",
       "    <tr>\n",
       "      <th>6</th>\n",
       "      <td>1044033221</td>\n",
       "      <td>I</td>\n",
       "      <td>CROWDS19</td>\n",
       "      <td>CROWDS19</td>\n",
       "      <td>CON</td>\n",
       "      <td>2019-12-04</td>\n",
       "      <td>2019-12-04</td>\n",
       "      <td>2019-12-07</td>\n",
       "      <td>2019-12-05</td>\n",
       "      <td>US</td>\n",
       "      <td>34.0</td>\n",
       "      <td>2019-12-07</td>\n",
       "      <td>2020-02-06</td>\n",
       "      <td>9.0</td>\n",
       "      <td>danmarkcom.com</td>\n",
       "      <td>26.470588</td>\n",
       "    </tr>\n",
       "    <tr>\n",
       "      <th>8</th>\n",
       "      <td>1042888581</td>\n",
       "      <td>I</td>\n",
       "      <td>OOBWIN15</td>\n",
       "      <td>OOBWIN15</td>\n",
       "      <td>CON</td>\n",
       "      <td>2019-10-20</td>\n",
       "      <td>2019-10-20</td>\n",
       "      <td>2019-10-20</td>\n",
       "      <td>2019-10-20</td>\n",
       "      <td>US</td>\n",
       "      <td>34.0</td>\n",
       "      <td>2019-10-20</td>\n",
       "      <td>2020-01-21</td>\n",
       "      <td>0.0</td>\n",
       "      <td>gmail.com</td>\n",
       "      <td>0.000000</td>\n",
       "    </tr>\n",
       "  </tbody>\n",
       "</table>\n",
       "</div>"
      ],
      "text/plain": [
       "   Midascontactid Emailpermissionstatus Cont.Acq.Src Email.Src.First Segment  \\\n",
       "0      1020375449                     I     LIDUAS16        OOBWIN15     CON   \n",
       "2      1039527195                     I     NETMINNG        NETMINNG     CON   \n",
       "3      1008356168                     I         EPI2            EPI2     CON   \n",
       "6      1044033221                     I     CROWDS19        CROWDS19     CON   \n",
       "8      1042888581                     I     OOBWIN15        OOBWIN15     CON   \n",
       "\n",
       "  Email.Acq.Dt Cont.Acq.Dte Prod.Buy.Last Prod.Buy.First Country  \\\n",
       "0   2019-04-22   2017-03-03    2019-08-24     2019-04-22      US   \n",
       "2   2019-07-29   2019-07-29    2019-07-30     2019-07-30      US   \n",
       "3   2015-11-04   2015-11-04    2019-11-29     2016-07-26      US   \n",
       "6   2019-12-04   2019-12-04    2019-12-07     2019-12-05      US   \n",
       "8   2019-10-20   2019-10-20    2019-10-20     2019-10-20      US   \n",
       "\n",
       "   Eml.Sent.Num Eml.Sent.First.Ts Eml.Sent.Last.Ts  Eml.Open.Num  \\\n",
       "0         228.0        2017-03-03       2020-02-20          41.0   \n",
       "2         121.0        2019-07-29       2020-02-20           4.0   \n",
       "3          15.0        2019-11-29       2020-01-13           2.0   \n",
       "6          34.0        2019-12-07       2020-02-06           9.0   \n",
       "8          34.0        2019-10-20       2020-01-21           0.0   \n",
       "\n",
       "     Email.Domain  email_view_rate  \n",
       "0       gmail.com        17.982456  \n",
       "2     hotmail.com         3.305785  \n",
       "3       gmail.com        13.333333  \n",
       "6  danmarkcom.com        26.470588  \n",
       "8       gmail.com         0.000000  "
      ]
     },
     "execution_count": 28,
     "metadata": {},
     "output_type": "execute_result"
    }
   ],
   "source": [
    "df_new1.head()"
   ]
  },
  {
   "cell_type": "code",
   "execution_count": 29,
   "metadata": {},
   "outputs": [],
   "source": [
    "df_clustering = df_new1.drop([\"Midascontactid\" , \"Email.Acq.Dt\" , \"Cont.Acq.Dte\" , \"Prod.Buy.Last\" , \"Prod.Buy.First\",\n",
    "                              \"Eml.Sent.First.Ts\" , \"Eml.Sent.Last.Ts\",\"Country\",\"Emailpermissionstatus\",\"Segment\"] , axis = 1)"
   ]
  },
  {
   "cell_type": "code",
   "execution_count": 30,
   "metadata": {},
   "outputs": [
    {
     "data": {
      "text/plain": [
       "['Cont.Acq.Src', 'Email.Src.First', 'Email.Domain']"
      ]
     },
     "execution_count": 30,
     "metadata": {},
     "output_type": "execute_result"
    }
   ],
   "source": [
    "num_columns = list(df_clustering._get_numeric_data().columns)\n",
    "all_columns = list(df_clustering.columns)\n",
    "\n",
    "cat_columns = []\n",
    "for i in all_columns:\n",
    "    if i not in num_columns:\n",
    "        cat_columns.append(i)\n",
    "cat_columns"
   ]
  },
  {
   "cell_type": "code",
   "execution_count": 31,
   "metadata": {},
   "outputs": [],
   "source": [
    "df_cat = df_clustering[cat_columns]\n",
    "df_num = df_clustering[num_columns]"
   ]
  },
  {
   "cell_type": "code",
   "execution_count": 32,
   "metadata": {},
   "outputs": [],
   "source": [
    "from sklearn.preprocessing import LabelEncoder\n",
    "lb = LabelEncoder()"
   ]
  },
  {
   "cell_type": "code",
   "execution_count": 33,
   "metadata": {},
   "outputs": [
    {
     "data": {
      "text/html": [
       "<div>\n",
       "<style scoped>\n",
       "    .dataframe tbody tr th:only-of-type {\n",
       "        vertical-align: middle;\n",
       "    }\n",
       "\n",
       "    .dataframe tbody tr th {\n",
       "        vertical-align: top;\n",
       "    }\n",
       "\n",
       "    .dataframe thead th {\n",
       "        text-align: right;\n",
       "    }\n",
       "</style>\n",
       "<table border=\"1\" class=\"dataframe\">\n",
       "  <thead>\n",
       "    <tr style=\"text-align: right;\">\n",
       "      <th></th>\n",
       "      <th>Cont.Acq.Src</th>\n",
       "      <th>Email.Src.First</th>\n",
       "      <th>Email.Domain</th>\n",
       "      <th>Eml.Sent.Num</th>\n",
       "      <th>Eml.Open.Num</th>\n",
       "      <th>email_view_rate</th>\n",
       "    </tr>\n",
       "  </thead>\n",
       "  <tbody>\n",
       "    <tr>\n",
       "      <th>0</th>\n",
       "      <td>30</td>\n",
       "      <td>34</td>\n",
       "      <td>138</td>\n",
       "      <td>228.0</td>\n",
       "      <td>41.0</td>\n",
       "      <td>17.982456</td>\n",
       "    </tr>\n",
       "    <tr>\n",
       "      <th>2</th>\n",
       "      <td>33</td>\n",
       "      <td>29</td>\n",
       "      <td>157</td>\n",
       "      <td>121.0</td>\n",
       "      <td>4.0</td>\n",
       "      <td>3.305785</td>\n",
       "    </tr>\n",
       "    <tr>\n",
       "      <th>3</th>\n",
       "      <td>10</td>\n",
       "      <td>10</td>\n",
       "      <td>138</td>\n",
       "      <td>15.0</td>\n",
       "      <td>2.0</td>\n",
       "      <td>13.333333</td>\n",
       "    </tr>\n",
       "    <tr>\n",
       "      <th>6</th>\n",
       "      <td>4</td>\n",
       "      <td>5</td>\n",
       "      <td>96</td>\n",
       "      <td>34.0</td>\n",
       "      <td>9.0</td>\n",
       "      <td>26.470588</td>\n",
       "    </tr>\n",
       "    <tr>\n",
       "      <th>8</th>\n",
       "      <td>39</td>\n",
       "      <td>34</td>\n",
       "      <td>138</td>\n",
       "      <td>34.0</td>\n",
       "      <td>0.0</td>\n",
       "      <td>0.000000</td>\n",
       "    </tr>\n",
       "  </tbody>\n",
       "</table>\n",
       "</div>"
      ],
      "text/plain": [
       "   Cont.Acq.Src  Email.Src.First  Email.Domain  Eml.Sent.Num  Eml.Open.Num  \\\n",
       "0            30               34           138         228.0          41.0   \n",
       "2            33               29           157         121.0           4.0   \n",
       "3            10               10           138          15.0           2.0   \n",
       "6             4                5            96          34.0           9.0   \n",
       "8            39               34           138          34.0           0.0   \n",
       "\n",
       "   email_view_rate  \n",
       "0        17.982456  \n",
       "2         3.305785  \n",
       "3        13.333333  \n",
       "6        26.470588  \n",
       "8         0.000000  "
      ]
     },
     "execution_count": 33,
     "metadata": {},
     "output_type": "execute_result"
    }
   ],
   "source": [
    "df_cat_encoded = df_cat.apply(lb.fit_transform)\n",
    "df_clustering1 = df_cat_encoded.join(df_num)\n",
    "df_clustering1.head()"
   ]
  },
  {
   "cell_type": "code",
   "execution_count": 34,
   "metadata": {},
   "outputs": [
    {
     "data": {
      "text/html": [
       "<div>\n",
       "<style scoped>\n",
       "    .dataframe tbody tr th:only-of-type {\n",
       "        vertical-align: middle;\n",
       "    }\n",
       "\n",
       "    .dataframe tbody tr th {\n",
       "        vertical-align: top;\n",
       "    }\n",
       "\n",
       "    .dataframe thead th {\n",
       "        text-align: right;\n",
       "    }\n",
       "</style>\n",
       "<table border=\"1\" class=\"dataframe\">\n",
       "  <thead>\n",
       "    <tr style=\"text-align: right;\">\n",
       "      <th></th>\n",
       "      <th>index</th>\n",
       "      <th>Cont.Acq.Src</th>\n",
       "      <th>Email.Src.First</th>\n",
       "      <th>Email.Domain</th>\n",
       "      <th>Eml.Sent.Num</th>\n",
       "      <th>Eml.Open.Num</th>\n",
       "      <th>email_view_rate</th>\n",
       "    </tr>\n",
       "  </thead>\n",
       "  <tbody>\n",
       "    <tr>\n",
       "      <th>0</th>\n",
       "      <td>0</td>\n",
       "      <td>30</td>\n",
       "      <td>34</td>\n",
       "      <td>138</td>\n",
       "      <td>228.0</td>\n",
       "      <td>41.0</td>\n",
       "      <td>17.982456</td>\n",
       "    </tr>\n",
       "    <tr>\n",
       "      <th>1</th>\n",
       "      <td>2</td>\n",
       "      <td>33</td>\n",
       "      <td>29</td>\n",
       "      <td>157</td>\n",
       "      <td>121.0</td>\n",
       "      <td>4.0</td>\n",
       "      <td>3.305785</td>\n",
       "    </tr>\n",
       "    <tr>\n",
       "      <th>2</th>\n",
       "      <td>3</td>\n",
       "      <td>10</td>\n",
       "      <td>10</td>\n",
       "      <td>138</td>\n",
       "      <td>15.0</td>\n",
       "      <td>2.0</td>\n",
       "      <td>13.333333</td>\n",
       "    </tr>\n",
       "    <tr>\n",
       "      <th>3</th>\n",
       "      <td>6</td>\n",
       "      <td>4</td>\n",
       "      <td>5</td>\n",
       "      <td>96</td>\n",
       "      <td>34.0</td>\n",
       "      <td>9.0</td>\n",
       "      <td>26.470588</td>\n",
       "    </tr>\n",
       "    <tr>\n",
       "      <th>4</th>\n",
       "      <td>8</td>\n",
       "      <td>39</td>\n",
       "      <td>34</td>\n",
       "      <td>138</td>\n",
       "      <td>34.0</td>\n",
       "      <td>0.0</td>\n",
       "      <td>0.000000</td>\n",
       "    </tr>\n",
       "  </tbody>\n",
       "</table>\n",
       "</div>"
      ],
      "text/plain": [
       "   index  Cont.Acq.Src  Email.Src.First  Email.Domain  Eml.Sent.Num  \\\n",
       "0      0            30               34           138         228.0   \n",
       "1      2            33               29           157         121.0   \n",
       "2      3            10               10           138          15.0   \n",
       "3      6             4                5            96          34.0   \n",
       "4      8            39               34           138          34.0   \n",
       "\n",
       "   Eml.Open.Num  email_view_rate  \n",
       "0          41.0        17.982456  \n",
       "1           4.0         3.305785  \n",
       "2           2.0        13.333333  \n",
       "3           9.0        26.470588  \n",
       "4           0.0         0.000000  "
      ]
     },
     "execution_count": 34,
     "metadata": {},
     "output_type": "execute_result"
    }
   ],
   "source": [
    "df_clustering1 = df_clustering1.reset_index()\n",
    "df_clustering1.head()"
   ]
  },
  {
   "cell_type": "code",
   "execution_count": 35,
   "metadata": {},
   "outputs": [
    {
     "data": {
      "text/html": [
       "<div>\n",
       "<style scoped>\n",
       "    .dataframe tbody tr th:only-of-type {\n",
       "        vertical-align: middle;\n",
       "    }\n",
       "\n",
       "    .dataframe tbody tr th {\n",
       "        vertical-align: top;\n",
       "    }\n",
       "\n",
       "    .dataframe thead th {\n",
       "        text-align: right;\n",
       "    }\n",
       "</style>\n",
       "<table border=\"1\" class=\"dataframe\">\n",
       "  <thead>\n",
       "    <tr style=\"text-align: right;\">\n",
       "      <th></th>\n",
       "      <th>Cont.Acq.Src</th>\n",
       "      <th>Email.Src.First</th>\n",
       "      <th>Email.Domain</th>\n",
       "      <th>Eml.Sent.Num</th>\n",
       "      <th>Eml.Open.Num</th>\n",
       "      <th>email_view_rate</th>\n",
       "    </tr>\n",
       "  </thead>\n",
       "  <tbody>\n",
       "    <tr>\n",
       "      <th>0</th>\n",
       "      <td>30</td>\n",
       "      <td>34</td>\n",
       "      <td>138</td>\n",
       "      <td>228.0</td>\n",
       "      <td>41.0</td>\n",
       "      <td>17.982456</td>\n",
       "    </tr>\n",
       "    <tr>\n",
       "      <th>1</th>\n",
       "      <td>33</td>\n",
       "      <td>29</td>\n",
       "      <td>157</td>\n",
       "      <td>121.0</td>\n",
       "      <td>4.0</td>\n",
       "      <td>3.305785</td>\n",
       "    </tr>\n",
       "    <tr>\n",
       "      <th>2</th>\n",
       "      <td>10</td>\n",
       "      <td>10</td>\n",
       "      <td>138</td>\n",
       "      <td>15.0</td>\n",
       "      <td>2.0</td>\n",
       "      <td>13.333333</td>\n",
       "    </tr>\n",
       "    <tr>\n",
       "      <th>3</th>\n",
       "      <td>4</td>\n",
       "      <td>5</td>\n",
       "      <td>96</td>\n",
       "      <td>34.0</td>\n",
       "      <td>9.0</td>\n",
       "      <td>26.470588</td>\n",
       "    </tr>\n",
       "    <tr>\n",
       "      <th>4</th>\n",
       "      <td>39</td>\n",
       "      <td>34</td>\n",
       "      <td>138</td>\n",
       "      <td>34.0</td>\n",
       "      <td>0.0</td>\n",
       "      <td>0.000000</td>\n",
       "    </tr>\n",
       "  </tbody>\n",
       "</table>\n",
       "</div>"
      ],
      "text/plain": [
       "   Cont.Acq.Src  Email.Src.First  Email.Domain  Eml.Sent.Num  Eml.Open.Num  \\\n",
       "0            30               34           138         228.0          41.0   \n",
       "1            33               29           157         121.0           4.0   \n",
       "2            10               10           138          15.0           2.0   \n",
       "3             4                5            96          34.0           9.0   \n",
       "4            39               34           138          34.0           0.0   \n",
       "\n",
       "   email_view_rate  \n",
       "0        17.982456  \n",
       "1         3.305785  \n",
       "2        13.333333  \n",
       "3        26.470588  \n",
       "4         0.000000  "
      ]
     },
     "execution_count": 35,
     "metadata": {},
     "output_type": "execute_result"
    }
   ],
   "source": [
    "df_clustering1 = df_clustering1.drop(\"index\",axis=1)\n",
    "df_clustering1.head()"
   ]
  },
  {
   "cell_type": "code",
   "execution_count": 36,
   "metadata": {},
   "outputs": [
    {
     "data": {
      "text/html": [
       "<div>\n",
       "<style scoped>\n",
       "    .dataframe tbody tr th:only-of-type {\n",
       "        vertical-align: middle;\n",
       "    }\n",
       "\n",
       "    .dataframe tbody tr th {\n",
       "        vertical-align: top;\n",
       "    }\n",
       "\n",
       "    .dataframe thead th {\n",
       "        text-align: right;\n",
       "    }\n",
       "</style>\n",
       "<table border=\"1\" class=\"dataframe\">\n",
       "  <thead>\n",
       "    <tr style=\"text-align: right;\">\n",
       "      <th></th>\n",
       "      <th>Cont.Acq.Src</th>\n",
       "      <th>Email.Src.First</th>\n",
       "      <th>Email.Domain</th>\n",
       "    </tr>\n",
       "  </thead>\n",
       "  <tbody>\n",
       "    <tr>\n",
       "      <th>0</th>\n",
       "      <td>30</td>\n",
       "      <td>34</td>\n",
       "      <td>138</td>\n",
       "    </tr>\n",
       "    <tr>\n",
       "      <th>1</th>\n",
       "      <td>33</td>\n",
       "      <td>29</td>\n",
       "      <td>157</td>\n",
       "    </tr>\n",
       "    <tr>\n",
       "      <th>2</th>\n",
       "      <td>10</td>\n",
       "      <td>10</td>\n",
       "      <td>138</td>\n",
       "    </tr>\n",
       "    <tr>\n",
       "      <th>3</th>\n",
       "      <td>4</td>\n",
       "      <td>5</td>\n",
       "      <td>96</td>\n",
       "    </tr>\n",
       "    <tr>\n",
       "      <th>4</th>\n",
       "      <td>39</td>\n",
       "      <td>34</td>\n",
       "      <td>138</td>\n",
       "    </tr>\n",
       "  </tbody>\n",
       "</table>\n",
       "</div>"
      ],
      "text/plain": [
       "   Cont.Acq.Src  Email.Src.First  Email.Domain\n",
       "0            30               34           138\n",
       "1            33               29           157\n",
       "2            10               10           138\n",
       "3             4                5            96\n",
       "4            39               34           138"
      ]
     },
     "execution_count": 36,
     "metadata": {},
     "output_type": "execute_result"
    }
   ],
   "source": [
    "df_clustering_first = df_clustering1[[\"Cont.Acq.Src\" , \"Email.Src.First\" , \"Email.Domain\"]]\n",
    "df_clustering_first.head()"
   ]
  },
  {
   "cell_type": "code",
   "execution_count": 37,
   "metadata": {},
   "outputs": [
    {
     "data": {
      "text/html": [
       "<div>\n",
       "<style scoped>\n",
       "    .dataframe tbody tr th:only-of-type {\n",
       "        vertical-align: middle;\n",
       "    }\n",
       "\n",
       "    .dataframe tbody tr th {\n",
       "        vertical-align: top;\n",
       "    }\n",
       "\n",
       "    .dataframe thead th {\n",
       "        text-align: right;\n",
       "    }\n",
       "</style>\n",
       "<table border=\"1\" class=\"dataframe\">\n",
       "  <thead>\n",
       "    <tr style=\"text-align: right;\">\n",
       "      <th></th>\n",
       "      <th>Eml.Sent.Num</th>\n",
       "      <th>Eml.Open.Num</th>\n",
       "      <th>email_view_rate</th>\n",
       "    </tr>\n",
       "  </thead>\n",
       "  <tbody>\n",
       "    <tr>\n",
       "      <th>0</th>\n",
       "      <td>228.0</td>\n",
       "      <td>41.0</td>\n",
       "      <td>17.982456</td>\n",
       "    </tr>\n",
       "    <tr>\n",
       "      <th>1</th>\n",
       "      <td>121.0</td>\n",
       "      <td>4.0</td>\n",
       "      <td>3.305785</td>\n",
       "    </tr>\n",
       "    <tr>\n",
       "      <th>2</th>\n",
       "      <td>15.0</td>\n",
       "      <td>2.0</td>\n",
       "      <td>13.333333</td>\n",
       "    </tr>\n",
       "    <tr>\n",
       "      <th>3</th>\n",
       "      <td>34.0</td>\n",
       "      <td>9.0</td>\n",
       "      <td>26.470588</td>\n",
       "    </tr>\n",
       "    <tr>\n",
       "      <th>4</th>\n",
       "      <td>34.0</td>\n",
       "      <td>0.0</td>\n",
       "      <td>0.000000</td>\n",
       "    </tr>\n",
       "  </tbody>\n",
       "</table>\n",
       "</div>"
      ],
      "text/plain": [
       "   Eml.Sent.Num  Eml.Open.Num  email_view_rate\n",
       "0         228.0          41.0        17.982456\n",
       "1         121.0           4.0         3.305785\n",
       "2          15.0           2.0        13.333333\n",
       "3          34.0           9.0        26.470588\n",
       "4          34.0           0.0         0.000000"
      ]
     },
     "execution_count": 37,
     "metadata": {},
     "output_type": "execute_result"
    }
   ],
   "source": [
    "df_clustering_second = df_clustering1[[\"Eml.Sent.Num\" , \"Eml.Open.Num\" , \"email_view_rate\"]]\n",
    "df_clustering_second.head()"
   ]
  },
  {
   "cell_type": "markdown",
   "metadata": {},
   "source": [
    "## Elbow Plot"
   ]
  },
  {
   "cell_type": "code",
   "execution_count": 38,
   "metadata": {},
   "outputs": [],
   "source": [
    "from sklearn.cluster import KMeans"
   ]
  },
  {
   "cell_type": "markdown",
   "metadata": {},
   "source": [
    "### For first table"
   ]
  },
  {
   "cell_type": "code",
   "execution_count": 39,
   "metadata": {
    "scrolled": true
   },
   "outputs": [
    {
     "data": {
      "image/png": "[encoded data removed]",
      "text/plain": [
       "<Figure size 432x288 with 1 Axes>"
      ]
     },
     "metadata": {
      "needs_background": "light"
     },
     "output_type": "display_data"
    }
   ],
   "source": [
    "inertia = []\n",
    "for i in range(1,11):\n",
    "    km = KMeans(n_clusters=i, \n",
    "                random_state = 0)\n",
    "    km.fit(df_clustering_first)\n",
    "    inertia.append(km.inertia_)\n",
    "plt.plot(range(1, 11), inertia , marker='o')\n",
    "plt.xlabel('Number of clusters')\n",
    "plt.ylabel('Inertia')\n",
    "plt.tight_layout()\n",
    "plt.title(\"Optimum No. of clusters with Elbow method\")\n",
    "plt.grid()\n",
    "plt.show()"
   ]
  },
  {
   "cell_type": "markdown",
   "metadata": {},
   "source": [
    "#### As elbow plot bends at 2, so the optimum number of clusters and k-value would be taken as 2"
   ]
  },
  {
   "cell_type": "markdown",
   "metadata": {},
   "source": [
    "### For second table"
   ]
  },
  {
   "cell_type": "code",
   "execution_count": 40,
   "metadata": {},
   "outputs": [
    {
     "data": {
      "image/png": "[encoded data removed]",
      "text/plain": [
       "<Figure size 432x288 with 1 Axes>"
      ]
     },
     "metadata": {
      "needs_background": "light"
     },
     "output_type": "display_data"
    }
   ],
   "source": [
    "inertia = []\n",
    "for i in range(1,11):\n",
    "    km = KMeans(n_clusters=i, \n",
    "                random_state = 0)\n",
    "    km.fit(df_clustering_second)\n",
    "    inertia.append(km.inertia_)\n",
    "plt.plot(range(1, 11), inertia , marker='o')\n",
    "plt.xlabel('Number of clusters')\n",
    "plt.ylabel('Inertia')\n",
    "plt.tight_layout()\n",
    "plt.title(\"Optimum No. of clusters with Elbow method\")\n",
    "plt.grid()\n",
    "plt.show()"
   ]
  },
  {
   "cell_type": "markdown",
   "metadata": {},
   "source": [
    "#### As elbow plot bends at 2, so the optimum number of clusters and k-value would be taken as 2"
   ]
  },
  {
   "cell_type": "markdown",
   "metadata": {},
   "source": [
    "## Clustering Analysis"
   ]
  },
  {
   "cell_type": "markdown",
   "metadata": {},
   "source": [
    "### For first clustering table:"
   ]
  },
  {
   "cell_type": "code",
   "execution_count": 41,
   "metadata": {},
   "outputs": [
    {
     "data": {
      "text/plain": [
       "KMeans(algorithm='auto', copy_x=True, init='k-means++', max_iter=300,\n",
       "       n_clusters=2, n_init=10, n_jobs=None, precompute_distances='auto',\n",
       "       random_state=42, tol=0.0001, verbose=0)"
      ]
     },
     "execution_count": 41,
     "metadata": {},
     "output_type": "execute_result"
    }
   ],
   "source": [
    "km = KMeans(n_clusters = 2 , random_state = 42)\n",
    "km.fit(df_clustering_first)"
   ]
  },
  {
   "cell_type": "code",
   "execution_count": 42,
   "metadata": {},
   "outputs": [
    {
     "data": {
      "text/html": [
       "<div>\n",
       "<style scoped>\n",
       "    .dataframe tbody tr th:only-of-type {\n",
       "        vertical-align: middle;\n",
       "    }\n",
       "\n",
       "    .dataframe tbody tr th {\n",
       "        vertical-align: top;\n",
       "    }\n",
       "\n",
       "    .dataframe thead th {\n",
       "        text-align: right;\n",
       "    }\n",
       "</style>\n",
       "<table border=\"1\" class=\"dataframe\">\n",
       "  <thead>\n",
       "    <tr style=\"text-align: right;\">\n",
       "      <th></th>\n",
       "      <th>0</th>\n",
       "      <th>1</th>\n",
       "      <th>2</th>\n",
       "    </tr>\n",
       "  </thead>\n",
       "  <tbody>\n",
       "    <tr>\n",
       "      <th>0</th>\n",
       "      <td>35.904984</td>\n",
       "      <td>31.223841</td>\n",
       "      <td>134.829496</td>\n",
       "    </tr>\n",
       "    <tr>\n",
       "      <th>1</th>\n",
       "      <td>36.785714</td>\n",
       "      <td>32.001701</td>\n",
       "      <td>326.031463</td>\n",
       "    </tr>\n",
       "  </tbody>\n",
       "</table>\n",
       "</div>"
      ],
      "text/plain": [
       "           0          1           2\n",
       "0  35.904984  31.223841  134.829496\n",
       "1  36.785714  32.001701  326.031463"
      ]
     },
     "execution_count": 42,
     "metadata": {},
     "output_type": "execute_result"
    }
   ],
   "source": [
    "pd.DataFrame(km.cluster_centers_)"
   ]
  },
  {
   "cell_type": "code",
   "execution_count": 43,
   "metadata": {},
   "outputs": [
    {
     "data": {
      "text/html": [
       "<div>\n",
       "<style scoped>\n",
       "    .dataframe tbody tr th:only-of-type {\n",
       "        vertical-align: middle;\n",
       "    }\n",
       "\n",
       "    .dataframe tbody tr th {\n",
       "        vertical-align: top;\n",
       "    }\n",
       "\n",
       "    .dataframe thead th {\n",
       "        text-align: right;\n",
       "    }\n",
       "</style>\n",
       "<table border=\"1\" class=\"dataframe\">\n",
       "  <thead>\n",
       "    <tr style=\"text-align: right;\">\n",
       "      <th></th>\n",
       "      <th>Cont.Acq.Src</th>\n",
       "      <th>Email.Src.First</th>\n",
       "      <th>Email.Domain</th>\n",
       "      <th>Cluster_labels</th>\n",
       "    </tr>\n",
       "  </thead>\n",
       "  <tbody>\n",
       "    <tr>\n",
       "      <th>0</th>\n",
       "      <td>30</td>\n",
       "      <td>34</td>\n",
       "      <td>138</td>\n",
       "      <td>0</td>\n",
       "    </tr>\n",
       "    <tr>\n",
       "      <th>1</th>\n",
       "      <td>33</td>\n",
       "      <td>29</td>\n",
       "      <td>157</td>\n",
       "      <td>0</td>\n",
       "    </tr>\n",
       "    <tr>\n",
       "      <th>2</th>\n",
       "      <td>10</td>\n",
       "      <td>10</td>\n",
       "      <td>138</td>\n",
       "      <td>0</td>\n",
       "    </tr>\n",
       "    <tr>\n",
       "      <th>3</th>\n",
       "      <td>4</td>\n",
       "      <td>5</td>\n",
       "      <td>96</td>\n",
       "      <td>0</td>\n",
       "    </tr>\n",
       "    <tr>\n",
       "      <th>4</th>\n",
       "      <td>39</td>\n",
       "      <td>34</td>\n",
       "      <td>138</td>\n",
       "      <td>0</td>\n",
       "    </tr>\n",
       "  </tbody>\n",
       "</table>\n",
       "</div>"
      ],
      "text/plain": [
       "   Cont.Acq.Src  Email.Src.First  Email.Domain  Cluster_labels\n",
       "0            30               34           138               0\n",
       "1            33               29           157               0\n",
       "2            10               10           138               0\n",
       "3             4                5            96               0\n",
       "4            39               34           138               0"
      ]
     },
     "execution_count": 43,
     "metadata": {},
     "output_type": "execute_result"
    }
   ],
   "source": [
    "df_clustering_first[\"Cluster_labels\"] = km.labels_\n",
    "df_clustering_first.head()"
   ]
  },
  {
   "cell_type": "code",
   "execution_count": 44,
   "metadata": {},
   "outputs": [
    {
     "data": {
      "image/png": "[encoded data removed]",
      "text/plain": [
       "<Figure size 432x288 with 1 Axes>"
      ]
     },
     "metadata": {
      "needs_background": "light"
     },
     "output_type": "display_data"
    }
   ],
   "source": [
    "from mpl_toolkits.mplot3d import Axes3D\n",
    "fig = plt.figure()\n",
    "ax=Axes3D(fig)\n",
    "\n",
    "ax.scatter(df_clustering_first[df_clustering_first['Cluster_labels']==0][\"Cont.Acq.Src\"],\n",
    "           df_clustering_first[df_clustering_first['Cluster_labels']==0][\"Email.Src.First\"],\n",
    "           df_clustering_first[df_clustering_first['Cluster_labels']==0][\"Email.Domain\"],\n",
    "           color='red')\n",
    "\n",
    "ax.scatter(df_clustering_first[df_clustering_first['Cluster_labels']==1][\"Cont.Acq.Src\"],\n",
    "           df_clustering_first[df_clustering_first['Cluster_labels']==1][\"Email.Src.First\"],\n",
    "           df_clustering_first[df_clustering_first['Cluster_labels']==1][\"Email.Domain\"],\n",
    "           color='blue')\n",
    "\n",
    "ax.scatter(km.cluster_centers_[0,0],km.cluster_centers_[0,1],km.cluster_centers_[0,2],color='green',marker='x',s=220)\n",
    "ax.scatter(km.cluster_centers_[1,0],km.cluster_centers_[1,1],km.cluster_centers_[1,2],color='orange',marker='x',s=220)\n",
    "\n",
    "plt.show()"
   ]
  },
  {
   "cell_type": "markdown",
   "metadata": {},
   "source": [
    "### For second clustering table"
   ]
  },
  {
   "cell_type": "code",
   "execution_count": 45,
   "metadata": {},
   "outputs": [
    {
     "data": {
      "text/plain": [
       "KMeans(algorithm='auto', copy_x=True, init='k-means++', max_iter=300,\n",
       "       n_clusters=2, n_init=10, n_jobs=None, precompute_distances='auto',\n",
       "       random_state=42, tol=0.0001, verbose=0)"
      ]
     },
     "execution_count": 45,
     "metadata": {},
     "output_type": "execute_result"
    }
   ],
   "source": [
    "km = KMeans(n_clusters = 2 , random_state = 42)\n",
    "km.fit(df_clustering_second)"
   ]
  },
  {
   "cell_type": "code",
   "execution_count": 46,
   "metadata": {},
   "outputs": [
    {
     "data": {
      "text/html": [
       "<div>\n",
       "<style scoped>\n",
       "    .dataframe tbody tr th:only-of-type {\n",
       "        vertical-align: middle;\n",
       "    }\n",
       "\n",
       "    .dataframe tbody tr th {\n",
       "        vertical-align: top;\n",
       "    }\n",
       "\n",
       "    .dataframe thead th {\n",
       "        text-align: right;\n",
       "    }\n",
       "</style>\n",
       "<table border=\"1\" class=\"dataframe\">\n",
       "  <thead>\n",
       "    <tr style=\"text-align: right;\">\n",
       "      <th></th>\n",
       "      <th>0</th>\n",
       "      <th>1</th>\n",
       "      <th>2</th>\n",
       "    </tr>\n",
       "  </thead>\n",
       "  <tbody>\n",
       "    <tr>\n",
       "      <th>0</th>\n",
       "      <td>12.660906</td>\n",
       "      <td>2.028958</td>\n",
       "      <td>18.103772</td>\n",
       "    </tr>\n",
       "    <tr>\n",
       "      <th>1</th>\n",
       "      <td>127.227692</td>\n",
       "      <td>33.855385</td>\n",
       "      <td>43.303213</td>\n",
       "    </tr>\n",
       "  </tbody>\n",
       "</table>\n",
       "</div>"
      ],
      "text/plain": [
       "            0          1          2\n",
       "0   12.660906   2.028958  18.103772\n",
       "1  127.227692  33.855385  43.303213"
      ]
     },
     "execution_count": 46,
     "metadata": {},
     "output_type": "execute_result"
    }
   ],
   "source": [
    "pd.DataFrame(km.cluster_centers_)"
   ]
  },
  {
   "cell_type": "code",
   "execution_count": 47,
   "metadata": {},
   "outputs": [
    {
     "data": {
      "text/html": [
       "<div>\n",
       "<style scoped>\n",
       "    .dataframe tbody tr th:only-of-type {\n",
       "        vertical-align: middle;\n",
       "    }\n",
       "\n",
       "    .dataframe tbody tr th {\n",
       "        vertical-align: top;\n",
       "    }\n",
       "\n",
       "    .dataframe thead th {\n",
       "        text-align: right;\n",
       "    }\n",
       "</style>\n",
       "<table border=\"1\" class=\"dataframe\">\n",
       "  <thead>\n",
       "    <tr style=\"text-align: right;\">\n",
       "      <th></th>\n",
       "      <th>Eml.Sent.Num</th>\n",
       "      <th>Eml.Open.Num</th>\n",
       "      <th>email_view_rate</th>\n",
       "      <th>Cluster_labels</th>\n",
       "    </tr>\n",
       "  </thead>\n",
       "  <tbody>\n",
       "    <tr>\n",
       "      <th>0</th>\n",
       "      <td>228.0</td>\n",
       "      <td>41.0</td>\n",
       "      <td>17.982456</td>\n",
       "      <td>1</td>\n",
       "    </tr>\n",
       "    <tr>\n",
       "      <th>1</th>\n",
       "      <td>121.0</td>\n",
       "      <td>4.0</td>\n",
       "      <td>3.305785</td>\n",
       "      <td>1</td>\n",
       "    </tr>\n",
       "    <tr>\n",
       "      <th>2</th>\n",
       "      <td>15.0</td>\n",
       "      <td>2.0</td>\n",
       "      <td>13.333333</td>\n",
       "      <td>0</td>\n",
       "    </tr>\n",
       "    <tr>\n",
       "      <th>3</th>\n",
       "      <td>34.0</td>\n",
       "      <td>9.0</td>\n",
       "      <td>26.470588</td>\n",
       "      <td>0</td>\n",
       "    </tr>\n",
       "    <tr>\n",
       "      <th>4</th>\n",
       "      <td>34.0</td>\n",
       "      <td>0.0</td>\n",
       "      <td>0.000000</td>\n",
       "      <td>0</td>\n",
       "    </tr>\n",
       "  </tbody>\n",
       "</table>\n",
       "</div>"
      ],
      "text/plain": [
       "   Eml.Sent.Num  Eml.Open.Num  email_view_rate  Cluster_labels\n",
       "0         228.0          41.0        17.982456               1\n",
       "1         121.0           4.0         3.305785               1\n",
       "2          15.0           2.0        13.333333               0\n",
       "3          34.0           9.0        26.470588               0\n",
       "4          34.0           0.0         0.000000               0"
      ]
     },
     "execution_count": 47,
     "metadata": {},
     "output_type": "execute_result"
    }
   ],
   "source": [
    "df_clustering_second[\"Cluster_labels\"] = km.labels_\n",
    "df_clustering_second.head()"
   ]
  },
  {
   "cell_type": "code",
   "execution_count": 48,
   "metadata": {},
   "outputs": [
    {
     "data": {
      "image/png": "[encoded data removed]",
      "text/plain": [
       "<Figure size 432x288 with 1 Axes>"
      ]
     },
     "metadata": {
      "needs_background": "light"
     },
     "output_type": "display_data"
    }
   ],
   "source": [
    "from mpl_toolkits.mplot3d import Axes3D\n",
    "fig = plt.figure()\n",
    "ax=Axes3D(fig)\n",
    "\n",
    "ax.scatter(df_clustering_second[df_clustering_second['Cluster_labels']==0][\"Eml.Sent.Num\"],\n",
    "           df_clustering_second[df_clustering_second['Cluster_labels']==0][\"Eml.Open.Num\"],\n",
    "           df_clustering_second[df_clustering_second['Cluster_labels']==0][\"email_view_rate\"],\n",
    "           color='green')\n",
    "\n",
    "ax.scatter(df_clustering_second[df_clustering_second['Cluster_labels']==1][\"Eml.Sent.Num\"],\n",
    "           df_clustering_second[df_clustering_second['Cluster_labels']==1][\"Eml.Open.Num\"],\n",
    "           df_clustering_second[df_clustering_second['Cluster_labels']==1][\"email_view_rate\"],\n",
    "           color='orange')\n",
    "\n",
    "ax.scatter(km.cluster_centers_[0,0],km.cluster_centers_[0,1],km.cluster_centers_[0,2],color='red',marker='x',s=520)\n",
    "ax.scatter(km.cluster_centers_[1,0],km.cluster_centers_[1,1],km.cluster_centers_[1,2],color='blue',marker='x',s=520)\n",
    "\n",
    "plt.show()"
   ]
  },
  {
   "cell_type": "markdown",
   "metadata": {},
   "source": [
    "## Conclusion"
   ]
  },
  {
   "attachments": {},
   "cell_type": "markdown",
   "metadata": {},
   "source": [
    "1) We can clearly observe that the first clustering table gives a better visualization of the clusters compared to the second table\n",
    "\n",
    "2) OOBWIN15 source should be kept under priority always as most number of customers can be acquired from here.\n",
    "\n",
    "3) Customers with Opted-in status are high in number which is good sign but to convert email opt-ins to purchase conversions, potential customer segments are needed to be kept under the priority radar.\n",
    "\n",
    "4) Further more , potential customers belonging to different segments should be analysed thoroughly and should be given value under the database.\n",
    "\n",
    "5) Competitor’s target customer should be identified and strategies should be planned.\n",
    "\n",
    "6) Moreover, those customers should also be targeted those are getting the least attention and their purchase history should be studied in order to attract them towards those products in which they have interest."
   ]
  }
 ],
 "metadata": {
  "kernelspec": {
   "display_name": "Python 3",
   "language": "python",
   "name": "python3"
  },
  "language_info": {
   "codemirror_mode": {
    "name": "ipython",
    "version": 3
   },
   "file_extension": ".py",
   "mimetype": "text/x-python",
   "name": "python",
   "nbconvert_exporter": "python",
   "pygments_lexer": "ipython3",
   "version": "3.7.6"
  }
 },
 "nbformat": 4,
 "nbformat_minor": 4
}
